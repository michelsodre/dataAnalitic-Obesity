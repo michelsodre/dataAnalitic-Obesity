{
 "cells": [
  {
   "cell_type": "code",
   "execution_count": 1,
   "id": "317762ca-9d1d-43ed-a669-fc9b305f7a13",
   "metadata": {},
   "outputs": [],
   "source": [
    "import pandas as pd\n",
    "import numpy as np"
   ]
  },
  {
   "cell_type": "code",
   "execution_count": 2,
   "id": "32e8200b-1f08-4044-9714-5773b3eb1cca",
   "metadata": {},
   "outputs": [],
   "source": [
    "df_obesidade = pd.read_csv(\"db/obesity-cleaned.csv\")"
   ]
  },
  {
   "cell_type": "markdown",
   "id": "3ed656b6-b4e7-4697-8482-9d063905be52",
   "metadata": {},
   "source": [
    "### Analisando dados da tabela"
   ]
  },
  {
   "cell_type": "code",
   "execution_count": 3,
   "id": "b89b4904-570c-493f-b82d-3feed6f50054",
   "metadata": {},
   "outputs": [
    {
     "data": {
      "text/html": [
       "<div>\n",
       "<style scoped>\n",
       "    .dataframe tbody tr th:only-of-type {\n",
       "        vertical-align: middle;\n",
       "    }\n",
       "\n",
       "    .dataframe tbody tr th {\n",
       "        vertical-align: top;\n",
       "    }\n",
       "\n",
       "    .dataframe thead th {\n",
       "        text-align: right;\n",
       "    }\n",
       "</style>\n",
       "<table border=\"1\" class=\"dataframe\">\n",
       "  <thead>\n",
       "    <tr style=\"text-align: right;\">\n",
       "      <th></th>\n",
       "      <th>Unnamed: 0</th>\n",
       "      <th>Country</th>\n",
       "      <th>Year</th>\n",
       "      <th>Obesity (%)</th>\n",
       "      <th>Sex</th>\n",
       "    </tr>\n",
       "  </thead>\n",
       "  <tbody>\n",
       "    <tr>\n",
       "      <th>0</th>\n",
       "      <td>0</td>\n",
       "      <td>Afghanistan</td>\n",
       "      <td>1975</td>\n",
       "      <td>0.5 [0.2-1.1]</td>\n",
       "      <td>Both sexes</td>\n",
       "    </tr>\n",
       "    <tr>\n",
       "      <th>1</th>\n",
       "      <td>1</td>\n",
       "      <td>Afghanistan</td>\n",
       "      <td>1975</td>\n",
       "      <td>0.2 [0.0-0.6]</td>\n",
       "      <td>Male</td>\n",
       "    </tr>\n",
       "    <tr>\n",
       "      <th>2</th>\n",
       "      <td>2</td>\n",
       "      <td>Afghanistan</td>\n",
       "      <td>1975</td>\n",
       "      <td>0.8 [0.2-2.0]</td>\n",
       "      <td>Female</td>\n",
       "    </tr>\n",
       "    <tr>\n",
       "      <th>3</th>\n",
       "      <td>3</td>\n",
       "      <td>Afghanistan</td>\n",
       "      <td>1976</td>\n",
       "      <td>0.5 [0.2-1.1]</td>\n",
       "      <td>Both sexes</td>\n",
       "    </tr>\n",
       "    <tr>\n",
       "      <th>4</th>\n",
       "      <td>4</td>\n",
       "      <td>Afghanistan</td>\n",
       "      <td>1976</td>\n",
       "      <td>0.2 [0.0-0.7]</td>\n",
       "      <td>Male</td>\n",
       "    </tr>\n",
       "    <tr>\n",
       "      <th>...</th>\n",
       "      <td>...</td>\n",
       "      <td>...</td>\n",
       "      <td>...</td>\n",
       "      <td>...</td>\n",
       "      <td>...</td>\n",
       "    </tr>\n",
       "    <tr>\n",
       "      <th>24565</th>\n",
       "      <td>24565</td>\n",
       "      <td>Zimbabwe</td>\n",
       "      <td>2015</td>\n",
       "      <td>4.5 [2.4-7.6]</td>\n",
       "      <td>Male</td>\n",
       "    </tr>\n",
       "    <tr>\n",
       "      <th>24566</th>\n",
       "      <td>24566</td>\n",
       "      <td>Zimbabwe</td>\n",
       "      <td>2015</td>\n",
       "      <td>24.8 [18.9-31.3]</td>\n",
       "      <td>Female</td>\n",
       "    </tr>\n",
       "    <tr>\n",
       "      <th>24567</th>\n",
       "      <td>24567</td>\n",
       "      <td>Zimbabwe</td>\n",
       "      <td>2016</td>\n",
       "      <td>15.5 [12.0-19.2]</td>\n",
       "      <td>Both sexes</td>\n",
       "    </tr>\n",
       "    <tr>\n",
       "      <th>24568</th>\n",
       "      <td>24568</td>\n",
       "      <td>Zimbabwe</td>\n",
       "      <td>2016</td>\n",
       "      <td>4.7 [2.5-8.0]</td>\n",
       "      <td>Male</td>\n",
       "    </tr>\n",
       "    <tr>\n",
       "      <th>24569</th>\n",
       "      <td>24569</td>\n",
       "      <td>Zimbabwe</td>\n",
       "      <td>2016</td>\n",
       "      <td>25.3 [19.1-32.0]</td>\n",
       "      <td>Female</td>\n",
       "    </tr>\n",
       "  </tbody>\n",
       "</table>\n",
       "<p>24570 rows × 5 columns</p>\n",
       "</div>"
      ],
      "text/plain": [
       "       Unnamed: 0      Country  Year       Obesity (%)         Sex\n",
       "0               0  Afghanistan  1975     0.5 [0.2-1.1]  Both sexes\n",
       "1               1  Afghanistan  1975     0.2 [0.0-0.6]        Male\n",
       "2               2  Afghanistan  1975     0.8 [0.2-2.0]      Female\n",
       "3               3  Afghanistan  1976     0.5 [0.2-1.1]  Both sexes\n",
       "4               4  Afghanistan  1976     0.2 [0.0-0.7]        Male\n",
       "...           ...          ...   ...               ...         ...\n",
       "24565       24565     Zimbabwe  2015     4.5 [2.4-7.6]        Male\n",
       "24566       24566     Zimbabwe  2015  24.8 [18.9-31.3]      Female\n",
       "24567       24567     Zimbabwe  2016  15.5 [12.0-19.2]  Both sexes\n",
       "24568       24568     Zimbabwe  2016     4.7 [2.5-8.0]        Male\n",
       "24569       24569     Zimbabwe  2016  25.3 [19.1-32.0]      Female\n",
       "\n",
       "[24570 rows x 5 columns]"
      ]
     },
     "execution_count": 3,
     "metadata": {},
     "output_type": "execute_result"
    }
   ],
   "source": [
    "df_obesidade"
   ]
  },
  {
   "cell_type": "markdown",
   "id": "ddcefc18-8a96-4995-a642-a62d623fd92f",
   "metadata": {},
   "source": [
    "### Obesity (%) possui valores vazios, esta como string e possui desvio padrão no dado"
   ]
  },
  {
   "cell_type": "code",
   "execution_count": 4,
   "id": "f90bf868-4c66-41cc-93b7-492a0b264d50",
   "metadata": {},
   "outputs": [
    {
     "data": {
      "text/plain": [
       "No data            504\n",
       "0.4 [0.1-1.0]       55\n",
       "0.6 [0.2-1.3]       47\n",
       "0.3 [0.1-0.7]       46\n",
       "0.3 [0.1-0.8]       46\n",
       "                  ... \n",
       "9.5 [6.7-13.1]       1\n",
       "4.4 [2.2-7.6]        1\n",
       "14.1 [9.1-20.3]      1\n",
       "9.8 [6.9-13.4]       1\n",
       "4.7 [2.5-8.0]        1\n",
       "Name: Obesity (%), Length: 16375, dtype: int64"
      ]
     },
     "execution_count": 4,
     "metadata": {},
     "output_type": "execute_result"
    }
   ],
   "source": [
    "df_obesidade[\"Obesity (%)\"].value_counts()"
   ]
  },
  {
   "cell_type": "code",
   "execution_count": 5,
   "id": "f861dce7-6e92-43a4-af42-f39af9856a0f",
   "metadata": {},
   "outputs": [
    {
     "data": {
      "text/plain": [
       "'0.5 [0.2-1.1]'"
      ]
     },
     "execution_count": 5,
     "metadata": {},
     "output_type": "execute_result"
    }
   ],
   "source": [
    "df_obesidade[\"Obesity (%)\"].iloc[0]"
   ]
  },
  {
   "cell_type": "code",
   "execution_count": 6,
   "id": "8496fd41-a6c6-4e55-b85d-c5bf5bb64005",
   "metadata": {},
   "outputs": [
    {
     "data": {
      "text/plain": [
       "Index(['Unnamed: 0', 'Country', 'Year', 'Obesity (%)', 'Sex'], dtype='object')"
      ]
     },
     "execution_count": 6,
     "metadata": {},
     "output_type": "execute_result"
    }
   ],
   "source": [
    "df_obesidade.columns"
   ]
  },
  {
   "cell_type": "markdown",
   "id": "50eee2c2-9c8c-4e22-93d3-099d1510b069",
   "metadata": {},
   "source": [
    "### Remoção da coluna 'Unnamed: 0', remoção do desvio padrão na coluna obesity"
   ]
  },
  {
   "cell_type": "code",
   "execution_count": 7,
   "id": "53cc8567-da16-4cb5-acd4-417931b2183a",
   "metadata": {},
   "outputs": [],
   "source": [
    "del df_obesidade['Unnamed: 0']"
   ]
  },
  {
   "cell_type": "code",
   "execution_count": 8,
   "id": "74c413c2-7523-4b02-b9cb-de402e35c9a5",
   "metadata": {},
   "outputs": [
    {
     "data": {
      "text/plain": [
       "No      504\n",
       "0.4     222\n",
       "0.6     218\n",
       "0.5     217\n",
       "0.7     210\n",
       "       ... \n",
       "60.1      1\n",
       "56.3      1\n",
       "59.8      1\n",
       "55.5      1\n",
       "46.5      1\n",
       "Name: Obesity, Length: 602, dtype: int64"
      ]
     },
     "execution_count": 8,
     "metadata": {},
     "output_type": "execute_result"
    }
   ],
   "source": [
    "df_obesidade[\"Obesity\"] = df_obesidade[\"Obesity (%)\"].apply(lambda x: x.split()[0])\n",
    "df_obesidade[\"Obesity\"].value_counts()"
   ]
  },
  {
   "cell_type": "markdown",
   "id": "cf626300-e54c-4104-b422-3eede4dded48",
   "metadata": {},
   "source": [
    "### Remover valores \"No\" da coluna obesity"
   ]
  },
  {
   "cell_type": "code",
   "execution_count": 9,
   "id": "090baec4-bcd5-4548-843b-907838c7fc2b",
   "metadata": {},
   "outputs": [],
   "source": [
    "df_obesidade.loc[df_obesidade[\"Obesity\"] == \"No\", \"Obesity\"] = np.nan #converter para nan"
   ]
  },
  {
   "cell_type": "code",
   "execution_count": 10,
   "id": "4f18ca4a-fc31-4c77-8e07-db9155932ac0",
   "metadata": {},
   "outputs": [],
   "source": [
    "df_obesidade[\"Obesity\"] = df_obesidade[\"Obesity\"].dropna()"
   ]
  },
  {
   "cell_type": "code",
   "execution_count": 11,
   "id": "09ecbe26-c798-4df1-bfb2-218190f57f83",
   "metadata": {},
   "outputs": [
    {
     "data": {
      "text/plain": [
       "0.4     222\n",
       "0.6     218\n",
       "0.5     217\n",
       "0.7     210\n",
       "0.8     201\n",
       "       ... \n",
       "62.1      1\n",
       "56.8      1\n",
       "54.1      1\n",
       "60.0      1\n",
       "46.5      1\n",
       "Name: Obesity, Length: 601, dtype: int64"
      ]
     },
     "execution_count": 11,
     "metadata": {},
     "output_type": "execute_result"
    }
   ],
   "source": [
    "df_obesidade[\"Obesity\"].value_counts()"
   ]
  },
  {
   "cell_type": "markdown",
   "id": "d2083669-a150-47e3-9779-14444ee30d3e",
   "metadata": {},
   "source": [
    "### Converter para float \"Obesity\" e int \"Year\""
   ]
  },
  {
   "cell_type": "code",
   "execution_count": 12,
   "id": "7ec1849a-2751-4c55-b96c-1a01ada86708",
   "metadata": {},
   "outputs": [],
   "source": [
    "df_obesidade[\"Obesity\"] = df_obesidade[\"Obesity\"].apply(lambda x: float(x))\n",
    "df_obesidade[\"Year\"] = df_obesidade[\"Year\"].apply(lambda x: int(x))"
   ]
  },
  {
   "cell_type": "code",
   "execution_count": 13,
   "id": "8e91d390-fa98-48e7-81db-cc866d04de6f",
   "metadata": {},
   "outputs": [
    {
     "data": {
      "text/html": [
       "<div>\n",
       "<style scoped>\n",
       "    .dataframe tbody tr th:only-of-type {\n",
       "        vertical-align: middle;\n",
       "    }\n",
       "\n",
       "    .dataframe tbody tr th {\n",
       "        vertical-align: top;\n",
       "    }\n",
       "\n",
       "    .dataframe thead th {\n",
       "        text-align: right;\n",
       "    }\n",
       "</style>\n",
       "<table border=\"1\" class=\"dataframe\">\n",
       "  <thead>\n",
       "    <tr style=\"text-align: right;\">\n",
       "      <th></th>\n",
       "      <th>Country</th>\n",
       "      <th>Year</th>\n",
       "      <th>Obesity (%)</th>\n",
       "      <th>Sex</th>\n",
       "      <th>Obesity</th>\n",
       "    </tr>\n",
       "  </thead>\n",
       "  <tbody>\n",
       "    <tr>\n",
       "      <th>0</th>\n",
       "      <td>Afghanistan</td>\n",
       "      <td>1975</td>\n",
       "      <td>0.5 [0.2-1.1]</td>\n",
       "      <td>Both sexes</td>\n",
       "      <td>0.5</td>\n",
       "    </tr>\n",
       "    <tr>\n",
       "      <th>1</th>\n",
       "      <td>Afghanistan</td>\n",
       "      <td>1975</td>\n",
       "      <td>0.2 [0.0-0.6]</td>\n",
       "      <td>Male</td>\n",
       "      <td>0.2</td>\n",
       "    </tr>\n",
       "    <tr>\n",
       "      <th>2</th>\n",
       "      <td>Afghanistan</td>\n",
       "      <td>1975</td>\n",
       "      <td>0.8 [0.2-2.0]</td>\n",
       "      <td>Female</td>\n",
       "      <td>0.8</td>\n",
       "    </tr>\n",
       "    <tr>\n",
       "      <th>3</th>\n",
       "      <td>Afghanistan</td>\n",
       "      <td>1976</td>\n",
       "      <td>0.5 [0.2-1.1]</td>\n",
       "      <td>Both sexes</td>\n",
       "      <td>0.5</td>\n",
       "    </tr>\n",
       "    <tr>\n",
       "      <th>4</th>\n",
       "      <td>Afghanistan</td>\n",
       "      <td>1976</td>\n",
       "      <td>0.2 [0.0-0.7]</td>\n",
       "      <td>Male</td>\n",
       "      <td>0.2</td>\n",
       "    </tr>\n",
       "    <tr>\n",
       "      <th>...</th>\n",
       "      <td>...</td>\n",
       "      <td>...</td>\n",
       "      <td>...</td>\n",
       "      <td>...</td>\n",
       "      <td>...</td>\n",
       "    </tr>\n",
       "    <tr>\n",
       "      <th>24565</th>\n",
       "      <td>Zimbabwe</td>\n",
       "      <td>2015</td>\n",
       "      <td>4.5 [2.4-7.6]</td>\n",
       "      <td>Male</td>\n",
       "      <td>4.5</td>\n",
       "    </tr>\n",
       "    <tr>\n",
       "      <th>24566</th>\n",
       "      <td>Zimbabwe</td>\n",
       "      <td>2015</td>\n",
       "      <td>24.8 [18.9-31.3]</td>\n",
       "      <td>Female</td>\n",
       "      <td>24.8</td>\n",
       "    </tr>\n",
       "    <tr>\n",
       "      <th>24567</th>\n",
       "      <td>Zimbabwe</td>\n",
       "      <td>2016</td>\n",
       "      <td>15.5 [12.0-19.2]</td>\n",
       "      <td>Both sexes</td>\n",
       "      <td>15.5</td>\n",
       "    </tr>\n",
       "    <tr>\n",
       "      <th>24568</th>\n",
       "      <td>Zimbabwe</td>\n",
       "      <td>2016</td>\n",
       "      <td>4.7 [2.5-8.0]</td>\n",
       "      <td>Male</td>\n",
       "      <td>4.7</td>\n",
       "    </tr>\n",
       "    <tr>\n",
       "      <th>24569</th>\n",
       "      <td>Zimbabwe</td>\n",
       "      <td>2016</td>\n",
       "      <td>25.3 [19.1-32.0]</td>\n",
       "      <td>Female</td>\n",
       "      <td>25.3</td>\n",
       "    </tr>\n",
       "  </tbody>\n",
       "</table>\n",
       "<p>24570 rows × 5 columns</p>\n",
       "</div>"
      ],
      "text/plain": [
       "           Country  Year       Obesity (%)         Sex  Obesity\n",
       "0      Afghanistan  1975     0.5 [0.2-1.1]  Both sexes      0.5\n",
       "1      Afghanistan  1975     0.2 [0.0-0.6]        Male      0.2\n",
       "2      Afghanistan  1975     0.8 [0.2-2.0]      Female      0.8\n",
       "3      Afghanistan  1976     0.5 [0.2-1.1]  Both sexes      0.5\n",
       "4      Afghanistan  1976     0.2 [0.0-0.7]        Male      0.2\n",
       "...            ...   ...               ...         ...      ...\n",
       "24565     Zimbabwe  2015     4.5 [2.4-7.6]        Male      4.5\n",
       "24566     Zimbabwe  2015  24.8 [18.9-31.3]      Female     24.8\n",
       "24567     Zimbabwe  2016  15.5 [12.0-19.2]  Both sexes     15.5\n",
       "24568     Zimbabwe  2016     4.7 [2.5-8.0]        Male      4.7\n",
       "24569     Zimbabwe  2016  25.3 [19.1-32.0]      Female     25.3\n",
       "\n",
       "[24570 rows x 5 columns]"
      ]
     },
     "execution_count": 13,
     "metadata": {},
     "output_type": "execute_result"
    }
   ],
   "source": [
    "df_obesidade"
   ]
  },
  {
   "cell_type": "markdown",
   "id": "9b9a22d8-d712-4dd3-a408-accd461eef4b",
   "metadata": {},
   "source": [
    "### Definindo \"Year\" como index"
   ]
  },
  {
   "cell_type": "code",
   "execution_count": 14,
   "id": "ec783e7c-87a7-47b0-a411-faf3c63ccdec",
   "metadata": {},
   "outputs": [],
   "source": [
    "df_obesidade.set_index(\"Year\", inplace=True)"
   ]
  },
  {
   "cell_type": "code",
   "execution_count": 15,
   "id": "f1bfd40a-38a7-4584-9be2-90a536aac523",
   "metadata": {},
   "outputs": [
    {
     "data": {
      "text/html": [
       "<div>\n",
       "<style scoped>\n",
       "    .dataframe tbody tr th:only-of-type {\n",
       "        vertical-align: middle;\n",
       "    }\n",
       "\n",
       "    .dataframe tbody tr th {\n",
       "        vertical-align: top;\n",
       "    }\n",
       "\n",
       "    .dataframe thead th {\n",
       "        text-align: right;\n",
       "    }\n",
       "</style>\n",
       "<table border=\"1\" class=\"dataframe\">\n",
       "  <thead>\n",
       "    <tr style=\"text-align: right;\">\n",
       "      <th></th>\n",
       "      <th>Country</th>\n",
       "      <th>Obesity (%)</th>\n",
       "      <th>Sex</th>\n",
       "      <th>Obesity</th>\n",
       "    </tr>\n",
       "    <tr>\n",
       "      <th>Year</th>\n",
       "      <th></th>\n",
       "      <th></th>\n",
       "      <th></th>\n",
       "      <th></th>\n",
       "    </tr>\n",
       "  </thead>\n",
       "  <tbody>\n",
       "    <tr>\n",
       "      <th>1975</th>\n",
       "      <td>Afghanistan</td>\n",
       "      <td>0.5 [0.2-1.1]</td>\n",
       "      <td>Both sexes</td>\n",
       "      <td>0.5</td>\n",
       "    </tr>\n",
       "    <tr>\n",
       "      <th>1975</th>\n",
       "      <td>Afghanistan</td>\n",
       "      <td>0.2 [0.0-0.6]</td>\n",
       "      <td>Male</td>\n",
       "      <td>0.2</td>\n",
       "    </tr>\n",
       "    <tr>\n",
       "      <th>1975</th>\n",
       "      <td>Afghanistan</td>\n",
       "      <td>0.8 [0.2-2.0]</td>\n",
       "      <td>Female</td>\n",
       "      <td>0.8</td>\n",
       "    </tr>\n",
       "    <tr>\n",
       "      <th>1976</th>\n",
       "      <td>Afghanistan</td>\n",
       "      <td>0.5 [0.2-1.1]</td>\n",
       "      <td>Both sexes</td>\n",
       "      <td>0.5</td>\n",
       "    </tr>\n",
       "    <tr>\n",
       "      <th>1976</th>\n",
       "      <td>Afghanistan</td>\n",
       "      <td>0.2 [0.0-0.7]</td>\n",
       "      <td>Male</td>\n",
       "      <td>0.2</td>\n",
       "    </tr>\n",
       "    <tr>\n",
       "      <th>...</th>\n",
       "      <td>...</td>\n",
       "      <td>...</td>\n",
       "      <td>...</td>\n",
       "      <td>...</td>\n",
       "    </tr>\n",
       "    <tr>\n",
       "      <th>2015</th>\n",
       "      <td>Zimbabwe</td>\n",
       "      <td>4.5 [2.4-7.6]</td>\n",
       "      <td>Male</td>\n",
       "      <td>4.5</td>\n",
       "    </tr>\n",
       "    <tr>\n",
       "      <th>2015</th>\n",
       "      <td>Zimbabwe</td>\n",
       "      <td>24.8 [18.9-31.3]</td>\n",
       "      <td>Female</td>\n",
       "      <td>24.8</td>\n",
       "    </tr>\n",
       "    <tr>\n",
       "      <th>2016</th>\n",
       "      <td>Zimbabwe</td>\n",
       "      <td>15.5 [12.0-19.2]</td>\n",
       "      <td>Both sexes</td>\n",
       "      <td>15.5</td>\n",
       "    </tr>\n",
       "    <tr>\n",
       "      <th>2016</th>\n",
       "      <td>Zimbabwe</td>\n",
       "      <td>4.7 [2.5-8.0]</td>\n",
       "      <td>Male</td>\n",
       "      <td>4.7</td>\n",
       "    </tr>\n",
       "    <tr>\n",
       "      <th>2016</th>\n",
       "      <td>Zimbabwe</td>\n",
       "      <td>25.3 [19.1-32.0]</td>\n",
       "      <td>Female</td>\n",
       "      <td>25.3</td>\n",
       "    </tr>\n",
       "  </tbody>\n",
       "</table>\n",
       "<p>24570 rows × 4 columns</p>\n",
       "</div>"
      ],
      "text/plain": [
       "          Country       Obesity (%)         Sex  Obesity\n",
       "Year                                                    \n",
       "1975  Afghanistan     0.5 [0.2-1.1]  Both sexes      0.5\n",
       "1975  Afghanistan     0.2 [0.0-0.6]        Male      0.2\n",
       "1975  Afghanistan     0.8 [0.2-2.0]      Female      0.8\n",
       "1976  Afghanistan     0.5 [0.2-1.1]  Both sexes      0.5\n",
       "1976  Afghanistan     0.2 [0.0-0.7]        Male      0.2\n",
       "...           ...               ...         ...      ...\n",
       "2015     Zimbabwe     4.5 [2.4-7.6]        Male      4.5\n",
       "2015     Zimbabwe  24.8 [18.9-31.3]      Female     24.8\n",
       "2016     Zimbabwe  15.5 [12.0-19.2]  Both sexes     15.5\n",
       "2016     Zimbabwe     4.7 [2.5-8.0]        Male      4.7\n",
       "2016     Zimbabwe  25.3 [19.1-32.0]      Female     25.3\n",
       "\n",
       "[24570 rows x 4 columns]"
      ]
     },
     "execution_count": 15,
     "metadata": {},
     "output_type": "execute_result"
    }
   ],
   "source": [
    "df_obesidade"
   ]
  },
  {
   "cell_type": "markdown",
   "id": "70b7e484-668a-46b7-8fd1-bb98d48ae268",
   "metadata": {},
   "source": [
    "### Busca da média de obesidade por ano (2015) separado por sexo"
   ]
  },
  {
   "cell_type": "code",
   "execution_count": 16,
   "id": "af6b3935-8345-42a8-8a78-cecb120a2da6",
   "metadata": {},
   "outputs": [
    {
     "data": {
      "text/html": [
       "<div>\n",
       "<style scoped>\n",
       "    .dataframe tbody tr th:only-of-type {\n",
       "        vertical-align: middle;\n",
       "    }\n",
       "\n",
       "    .dataframe tbody tr th {\n",
       "        vertical-align: top;\n",
       "    }\n",
       "\n",
       "    .dataframe thead th {\n",
       "        text-align: right;\n",
       "    }\n",
       "</style>\n",
       "<table border=\"1\" class=\"dataframe\">\n",
       "  <thead>\n",
       "    <tr style=\"text-align: right;\">\n",
       "      <th></th>\n",
       "      <th>Obesity</th>\n",
       "    </tr>\n",
       "    <tr>\n",
       "      <th>Sex</th>\n",
       "      <th></th>\n",
       "    </tr>\n",
       "  </thead>\n",
       "  <tbody>\n",
       "    <tr>\n",
       "      <th>Both sexes</th>\n",
       "      <td>19.508377</td>\n",
       "    </tr>\n",
       "    <tr>\n",
       "      <th>Female</th>\n",
       "      <td>22.899476</td>\n",
       "    </tr>\n",
       "    <tr>\n",
       "      <th>Male</th>\n",
       "      <td>15.980628</td>\n",
       "    </tr>\n",
       "  </tbody>\n",
       "</table>\n",
       "</div>"
      ],
      "text/plain": [
       "              Obesity\n",
       "Sex                  \n",
       "Both sexes  19.508377\n",
       "Female      22.899476\n",
       "Male        15.980628"
      ]
     },
     "execution_count": 16,
     "metadata": {},
     "output_type": "execute_result"
    }
   ],
   "source": [
    "df_obesidade[df_obesidade.index == 2015].groupby(\"Sex\").mean()"
   ]
  },
  {
   "cell_type": "markdown",
   "id": "4e860656-8d28-495f-9ec2-74d42196ecab",
   "metadata": {},
   "source": [
    "### Definindo um período de busca"
   ]
  },
  {
   "cell_type": "code",
   "execution_count": 17,
   "id": "9ae8306a-e178-48b5-93d2-264837540dc3",
   "metadata": {},
   "outputs": [],
   "source": [
    "df_obesidade_start = df_obesidade[df_obesidade.index == 1975]\n",
    "df_obesidade_end = df_obesidade[df_obesidade.index == 2016]"
   ]
  },
  {
   "cell_type": "markdown",
   "id": "674c2436-0944-48bc-bbd4-3c24165f0a28",
   "metadata": {},
   "source": [
    "### Definindo index como \"Country\""
   ]
  },
  {
   "cell_type": "code",
   "execution_count": 18,
   "id": "e3f979b3-14d3-4f9b-8eb0-82d716c57c25",
   "metadata": {},
   "outputs": [],
   "source": [
    "df_obesidade_start.set_index(\"Country\", inplace=True)\n",
    "df_obesidade_end.set_index(\"Country\", inplace=True)"
   ]
  },
  {
   "cell_type": "markdown",
   "id": "db52f100-cf5b-4644-b774-df43ea9e239a",
   "metadata": {},
   "source": [
    "### Buscando ambos os sexos"
   ]
  },
  {
   "cell_type": "code",
   "execution_count": 19,
   "id": "b21d0ef1-64f1-4ad2-9f2b-b8a644a24bcc",
   "metadata": {},
   "outputs": [
    {
     "data": {
      "text/plain": [
       "Country\n",
       "Afghanistan                            5.5\n",
       "Albania                               21.7\n",
       "Algeria                               27.4\n",
       "Andorra                               25.6\n",
       "Angola                                 8.2\n",
       "                                      ... \n",
       "Venezuela (Bolivarian Republic of)    25.6\n",
       "Viet Nam                               2.1\n",
       "Yemen                                 17.1\n",
       "Zambia                                 8.1\n",
       "Zimbabwe                              15.5\n",
       "Name: Obesity, Length: 195, dtype: float64"
      ]
     },
     "execution_count": 19,
     "metadata": {},
     "output_type": "execute_result"
    }
   ],
   "source": [
    "df_obesidade_end[df_obesidade_end[\"Sex\"] == \"Both sexes\"][\"Obesity\"]"
   ]
  },
  {
   "cell_type": "markdown",
   "id": "7bdfafa0-1b91-403a-adaf-cdc5569c5291",
   "metadata": {},
   "source": [
    "### Calculando evolução da obesidade no período avaliado"
   ]
  },
  {
   "cell_type": "code",
   "execution_count": 20,
   "id": "4c2bf947-91fd-44ed-86a7-99b467ffbbb4",
   "metadata": {},
   "outputs": [],
   "source": [
    "df_obesidade_evolucao = df_obesidade_end[df_obesidade_end[\"Sex\"] == \"Both sexes\"][\"Obesity\"] - df_obesidade_start[df_obesidade_start[\"Sex\"] == \"Both sexes\"][\"Obesity\"]"
   ]
  },
  {
   "cell_type": "code",
   "execution_count": 21,
   "id": "ca3a4829-be2d-42c2-bbba-b7a48b8b203d",
   "metadata": {},
   "outputs": [
    {
     "data": {
      "text/plain": [
       "Country\n",
       "Viet Nam       2.0\n",
       "Singapore      3.1\n",
       "Japan          3.3\n",
       "Bangladesh     3.4\n",
       "Timor-Leste    3.6\n",
       "Name: Obesity, dtype: float64"
      ]
     },
     "execution_count": 21,
     "metadata": {},
     "output_type": "execute_result"
    }
   ],
   "source": [
    "df_obesidade_evolucao.sort_values().dropna().head() ## maior evolução, retirado países sem dados"
   ]
  },
  {
   "cell_type": "code",
   "execution_count": 22,
   "id": "31ce6cca-5ea5-454b-8202-0d32e62ecb10",
   "metadata": {},
   "outputs": [
    {
     "data": {
      "text/plain": [
       "Country\n",
       "Cook Islands    27.9\n",
       "Tonga           28.3\n",
       "Kiribati        30.1\n",
       "Niue            31.1\n",
       "Tuvalu          33.7\n",
       "Name: Obesity, dtype: float64"
      ]
     },
     "execution_count": 22,
     "metadata": {},
     "output_type": "execute_result"
    }
   ],
   "source": [
    "df_obesidade_evolucao.sort_values().dropna().tail() ## menor evolução, retirado países sem dados"
   ]
  },
  {
   "cell_type": "markdown",
   "id": "5d57d283-9ab6-4681-b8ad-505c16c1a750",
   "metadata": {},
   "source": [
    "### Países com menor e maior evolução na taxa de obesidade"
   ]
  },
  {
   "cell_type": "code",
   "execution_count": 23,
   "id": "57509d55-22e8-4d6b-b70a-def8ae1438ed",
   "metadata": {},
   "outputs": [
    {
     "data": {
      "text/html": [
       "<div>\n",
       "<style scoped>\n",
       "    .dataframe tbody tr th:only-of-type {\n",
       "        vertical-align: middle;\n",
       "    }\n",
       "\n",
       "    .dataframe tbody tr th {\n",
       "        vertical-align: top;\n",
       "    }\n",
       "\n",
       "    .dataframe thead th {\n",
       "        text-align: right;\n",
       "    }\n",
       "</style>\n",
       "<table border=\"1\" class=\"dataframe\">\n",
       "  <thead>\n",
       "    <tr style=\"text-align: right;\">\n",
       "      <th></th>\n",
       "      <th>Obesity (%)</th>\n",
       "      <th>Sex</th>\n",
       "      <th>Obesity</th>\n",
       "    </tr>\n",
       "    <tr>\n",
       "      <th>Country</th>\n",
       "      <th></th>\n",
       "      <th></th>\n",
       "      <th></th>\n",
       "    </tr>\n",
       "  </thead>\n",
       "  <tbody>\n",
       "    <tr>\n",
       "      <th>Tuvalu</th>\n",
       "      <td>51.6 [45.0-57.9]</td>\n",
       "      <td>Both sexes</td>\n",
       "      <td>51.6</td>\n",
       "    </tr>\n",
       "    <tr>\n",
       "      <th>Tuvalu</th>\n",
       "      <td>47.0 [37.7-56.4]</td>\n",
       "      <td>Male</td>\n",
       "      <td>47.0</td>\n",
       "    </tr>\n",
       "    <tr>\n",
       "      <th>Tuvalu</th>\n",
       "      <td>56.2 [47.3-64.4]</td>\n",
       "      <td>Female</td>\n",
       "      <td>56.2</td>\n",
       "    </tr>\n",
       "  </tbody>\n",
       "</table>\n",
       "</div>"
      ],
      "text/plain": [
       "              Obesity (%)         Sex  Obesity\n",
       "Country                                       \n",
       "Tuvalu   51.6 [45.0-57.9]  Both sexes     51.6\n",
       "Tuvalu   47.0 [37.7-56.4]        Male     47.0\n",
       "Tuvalu   56.2 [47.3-64.4]      Female     56.2"
      ]
     },
     "execution_count": 23,
     "metadata": {},
     "output_type": "execute_result"
    }
   ],
   "source": [
    "df_obesidade_end[df_obesidade_end.index == \"Tuvalu\"]"
   ]
  },
  {
   "cell_type": "code",
   "execution_count": 24,
   "id": "e1a6a049-be27-4cc0-8ba1-3ace081d820b",
   "metadata": {},
   "outputs": [
    {
     "data": {
      "text/html": [
       "<div>\n",
       "<style scoped>\n",
       "    .dataframe tbody tr th:only-of-type {\n",
       "        vertical-align: middle;\n",
       "    }\n",
       "\n",
       "    .dataframe tbody tr th {\n",
       "        vertical-align: top;\n",
       "    }\n",
       "\n",
       "    .dataframe thead th {\n",
       "        text-align: right;\n",
       "    }\n",
       "</style>\n",
       "<table border=\"1\" class=\"dataframe\">\n",
       "  <thead>\n",
       "    <tr style=\"text-align: right;\">\n",
       "      <th></th>\n",
       "      <th>Obesity (%)</th>\n",
       "      <th>Sex</th>\n",
       "      <th>Obesity</th>\n",
       "    </tr>\n",
       "    <tr>\n",
       "      <th>Country</th>\n",
       "      <th></th>\n",
       "      <th></th>\n",
       "      <th></th>\n",
       "    </tr>\n",
       "  </thead>\n",
       "  <tbody>\n",
       "    <tr>\n",
       "      <th>Viet Nam</th>\n",
       "      <td>2.1 [1.4-3.1]</td>\n",
       "      <td>Both sexes</td>\n",
       "      <td>2.1</td>\n",
       "    </tr>\n",
       "    <tr>\n",
       "      <th>Viet Nam</th>\n",
       "      <td>1.6 [0.8-2.8]</td>\n",
       "      <td>Male</td>\n",
       "      <td>1.6</td>\n",
       "    </tr>\n",
       "    <tr>\n",
       "      <th>Viet Nam</th>\n",
       "      <td>2.6 [1.5-4.2]</td>\n",
       "      <td>Female</td>\n",
       "      <td>2.6</td>\n",
       "    </tr>\n",
       "  </tbody>\n",
       "</table>\n",
       "</div>"
      ],
      "text/plain": [
       "            Obesity (%)         Sex  Obesity\n",
       "Country                                     \n",
       "Viet Nam  2.1 [1.4-3.1]  Both sexes      2.1\n",
       "Viet Nam  1.6 [0.8-2.8]        Male      1.6\n",
       "Viet Nam  2.6 [1.5-4.2]      Female      2.6"
      ]
     },
     "execution_count": 24,
     "metadata": {},
     "output_type": "execute_result"
    }
   ],
   "source": [
    "df_obesidade_end[df_obesidade_end.index == \"Viet Nam\"]"
   ]
  },
  {
   "cell_type": "markdown",
   "id": "c3dc88f3-b5ec-4caf-ba0c-2fb121d8d615",
   "metadata": {},
   "source": [
    "### Busca do país com maior e menor índice de obesidade no ano de 2015"
   ]
  },
  {
   "cell_type": "code",
   "execution_count": 25,
   "id": "5e5e88e0-bfbc-4475-bbb0-50a794e1a389",
   "metadata": {},
   "outputs": [
    {
     "data": {
      "text/html": [
       "<div>\n",
       "<style scoped>\n",
       "    .dataframe tbody tr th:only-of-type {\n",
       "        vertical-align: middle;\n",
       "    }\n",
       "\n",
       "    .dataframe tbody tr th {\n",
       "        vertical-align: top;\n",
       "    }\n",
       "\n",
       "    .dataframe thead th {\n",
       "        text-align: right;\n",
       "    }\n",
       "</style>\n",
       "<table border=\"1\" class=\"dataframe\">\n",
       "  <thead>\n",
       "    <tr style=\"text-align: right;\">\n",
       "      <th></th>\n",
       "      <th>Country</th>\n",
       "      <th>Obesity (%)</th>\n",
       "      <th>Sex</th>\n",
       "      <th>Obesity</th>\n",
       "    </tr>\n",
       "    <tr>\n",
       "      <th>Year</th>\n",
       "      <th></th>\n",
       "      <th></th>\n",
       "      <th></th>\n",
       "      <th></th>\n",
       "    </tr>\n",
       "  </thead>\n",
       "  <tbody>\n",
       "    <tr>\n",
       "      <th>2015</th>\n",
       "      <td>Nauru</td>\n",
       "      <td>63.1 [55.5-70.3]</td>\n",
       "      <td>Female</td>\n",
       "      <td>63.1</td>\n",
       "    </tr>\n",
       "  </tbody>\n",
       "</table>\n",
       "</div>"
      ],
      "text/plain": [
       "     Country       Obesity (%)     Sex  Obesity\n",
       "Year                                           \n",
       "2015   Nauru  63.1 [55.5-70.3]  Female     63.1"
      ]
     },
     "execution_count": 25,
     "metadata": {},
     "output_type": "execute_result"
    }
   ],
   "source": [
    "df_2015 = df_obesidade[df_obesidade.index == 2015]\n",
    "df_2015[df_2015[\"Obesity\"] == df_2015[\"Obesity\"].max()]"
   ]
  },
  {
   "cell_type": "code",
   "execution_count": 26,
   "id": "c42226fb-17da-46ec-b1ce-927b56640948",
   "metadata": {},
   "outputs": [
    {
     "data": {
      "text/html": [
       "<div>\n",
       "<style scoped>\n",
       "    .dataframe tbody tr th:only-of-type {\n",
       "        vertical-align: middle;\n",
       "    }\n",
       "\n",
       "    .dataframe tbody tr th {\n",
       "        vertical-align: top;\n",
       "    }\n",
       "\n",
       "    .dataframe thead th {\n",
       "        text-align: right;\n",
       "    }\n",
       "</style>\n",
       "<table border=\"1\" class=\"dataframe\">\n",
       "  <thead>\n",
       "    <tr style=\"text-align: right;\">\n",
       "      <th></th>\n",
       "      <th>Country</th>\n",
       "      <th>Obesity (%)</th>\n",
       "      <th>Sex</th>\n",
       "      <th>Obesity</th>\n",
       "    </tr>\n",
       "    <tr>\n",
       "      <th>Year</th>\n",
       "      <th></th>\n",
       "      <th></th>\n",
       "      <th></th>\n",
       "      <th></th>\n",
       "    </tr>\n",
       "  </thead>\n",
       "  <tbody>\n",
       "    <tr>\n",
       "      <th>2015</th>\n",
       "      <td>Viet Nam</td>\n",
       "      <td>1.5 [0.8-2.5]</td>\n",
       "      <td>Male</td>\n",
       "      <td>1.5</td>\n",
       "    </tr>\n",
       "  </tbody>\n",
       "</table>\n",
       "</div>"
      ],
      "text/plain": [
       "       Country    Obesity (%)   Sex  Obesity\n",
       "Year                                        \n",
       "2015  Viet Nam  1.5 [0.8-2.5]  Male      1.5"
      ]
     },
     "execution_count": 26,
     "metadata": {},
     "output_type": "execute_result"
    }
   ],
   "source": [
    "df_2015 = df_obesidade[df_obesidade.index == 2015]\n",
    "df_2015[df_2015[\"Obesity\"] == df_2015[\"Obesity\"].min()]"
   ]
  },
  {
   "cell_type": "markdown",
   "id": "503bb58a-8b25-4e5a-9d10-4f910deb8747",
   "metadata": {},
   "source": [
    "### Buscar a diferença entre obesidade, durante os anos no Brazil"
   ]
  },
  {
   "cell_type": "code",
   "execution_count": 27,
   "id": "c89ef182-9e7d-40d0-b24c-797c9f7c89b1",
   "metadata": {},
   "outputs": [],
   "source": [
    "df_brazil = df_obesidade[df_obesidade[\"Country\"] == \"Brazil\"]"
   ]
  },
  {
   "cell_type": "code",
   "execution_count": 28,
   "id": "3cf3ad75-d4b7-4f99-9713-bda77882c09d",
   "metadata": {},
   "outputs": [
    {
     "data": {
      "text/plain": [
       "<AxesSubplot:xlabel='Year'>"
      ]
     },
     "execution_count": 28,
     "metadata": {},
     "output_type": "execute_result"
    },
    {
     "data": {
      "image/png": "[encoded data removed]",
      "text/plain": [
       "<Figure size 432x288 with 1 Axes>"
      ]
     },
     "metadata": {
      "needs_background": "light"
     },
     "output_type": "display_data"
    }
   ],
   "source": [
    "(df_brazil[df_brazil[\"Sex\"] == \"Female\"][\"Obesity\"] - df_brazil[df_brazil[\"Sex\"] == \"Male\"][\"Obesity\"]).plot()"
   ]
  },
  {
   "cell_type": "markdown",
   "id": "c1a0a701-5ec9-4563-8b87-92377af74958",
   "metadata": {},
   "source": [
    "Mulheres tem se tornado mais obesas em relação aos homens"
   ]
  },
  {
   "cell_type": "markdown",
   "id": "0ae3b4f7-1ed0-4eee-97f3-cfe053bf43be",
   "metadata": {},
   "source": [
    "### Comportamento da obesidade ano a ano"
   ]
  },
  {
   "cell_type": "code",
   "execution_count": 29,
   "id": "d28629b0-67e8-4f5c-9f3b-72d0f64d6206",
   "metadata": {},
   "outputs": [
    {
     "data": {
      "text/plain": [
       "<AxesSubplot:xlabel='Year'>"
      ]
     },
     "execution_count": 29,
     "metadata": {},
     "output_type": "execute_result"
    },
    {
     "data": {
      "image/png": "[encoded data removed]",
      "text/plain": [
       "<Figure size 432x288 with 1 Axes>"
      ]
     },
     "metadata": {
      "needs_background": "light"
     },
     "output_type": "display_data"
    }
   ],
   "source": [
    "df_both = df_obesidade[df_obesidade[\"Sex\"] == \"Both sexes\"]\n",
    "df_both.groupby(\"Year\")[\"Obesity\"].mean().plot()"
   ]
  },
  {
   "cell_type": "code",
   "execution_count": null,
   "id": "6d34f923-2f90-4930-bca8-4ddd9bd8ea48",
   "metadata": {},
   "outputs": [],
   "source": []
  }
 ],
 "metadata": {
  "kernelspec": {
   "display_name": "Python 3 (ipykernel)",
   "language": "python",
   "name": "python3"
  },
  "language_info": {
   "codemirror_mode": {
    "name": "ipython",
    "version": 3
   },
   "file_extension": ".py",
   "mimetype": "text/x-python",
   "name": "python",
   "nbconvert_exporter": "python",
   "pygments_lexer": "ipython3",
   "version": "3.9.12"
  }
 },
 "nbformat": 4,
 "nbformat_minor": 5
}
